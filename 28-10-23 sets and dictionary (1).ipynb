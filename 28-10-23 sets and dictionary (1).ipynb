{
 "cells": [
  {
   "cell_type": "markdown",
   "id": "d388d339",
   "metadata": {},
   "source": [
    "Sets():\n",
    "  sets are used to store multiple items in a single variable.\n",
    "  A set is a collection which is unordered,unchangeable and unidexed.\n",
    "  Sets are written with curly brackets({}),being the elements separated by commas.\n",
    "  To efficiently remove duplicate values from a collection like a list and to perform common math operations like unions and intersection."
   ]
  },
  {
   "cell_type": "markdown",
   "id": "711512a8",
   "metadata": {},
   "source": [
    "creating an empty set."
   ]
  },
  {
   "cell_type": "code",
   "execution_count": 2,
   "id": "ee5ba949",
   "metadata": {},
   "outputs": [
    {
     "data": {
      "text/plain": [
       "set()"
      ]
     },
     "execution_count": 2,
     "metadata": {},
     "output_type": "execute_result"
    }
   ],
   "source": [
    "x=set()\n",
    "x"
   ]
  },
  {
   "cell_type": "code",
   "execution_count": 3,
   "id": "021972c8",
   "metadata": {},
   "outputs": [
    {
     "data": {
      "text/plain": [
       "['__and__',\n",
       " '__class__',\n",
       " '__class_getitem__',\n",
       " '__contains__',\n",
       " '__delattr__',\n",
       " '__dir__',\n",
       " '__doc__',\n",
       " '__eq__',\n",
       " '__format__',\n",
       " '__ge__',\n",
       " '__getattribute__',\n",
       " '__getstate__',\n",
       " '__gt__',\n",
       " '__hash__',\n",
       " '__iand__',\n",
       " '__init__',\n",
       " '__init_subclass__',\n",
       " '__ior__',\n",
       " '__isub__',\n",
       " '__iter__',\n",
       " '__ixor__',\n",
       " '__le__',\n",
       " '__len__',\n",
       " '__lt__',\n",
       " '__ne__',\n",
       " '__new__',\n",
       " '__or__',\n",
       " '__rand__',\n",
       " '__reduce__',\n",
       " '__reduce_ex__',\n",
       " '__repr__',\n",
       " '__ror__',\n",
       " '__rsub__',\n",
       " '__rxor__',\n",
       " '__setattr__',\n",
       " '__sizeof__',\n",
       " '__str__',\n",
       " '__sub__',\n",
       " '__subclasshook__',\n",
       " '__xor__',\n",
       " 'add',\n",
       " 'clear',\n",
       " 'copy',\n",
       " 'difference',\n",
       " 'difference_update',\n",
       " 'discard',\n",
       " 'intersection',\n",
       " 'intersection_update',\n",
       " 'isdisjoint',\n",
       " 'issubset',\n",
       " 'issuperset',\n",
       " 'pop',\n",
       " 'remove',\n",
       " 'symmetric_difference',\n",
       " 'symmetric_difference_update',\n",
       " 'union',\n",
       " 'update']"
      ]
     },
     "execution_count": 3,
     "metadata": {},
     "output_type": "execute_result"
    }
   ],
   "source": [
    "dir(set)"
   ]
  },
  {
   "cell_type": "code",
   "execution_count": 4,
   "id": "aabc727f",
   "metadata": {},
   "outputs": [
    {
     "name": "stdout",
     "output_type": "stream",
     "text": [
      "Help on class set in module builtins:\n",
      "\n",
      "class set(object)\n",
      " |  set() -> new empty set object\n",
      " |  set(iterable) -> new set object\n",
      " |  \n",
      " |  Build an unordered collection of unique elements.\n",
      " |  \n",
      " |  Methods defined here:\n",
      " |  \n",
      " |  __and__(self, value, /)\n",
      " |      Return self&value.\n",
      " |  \n",
      " |  __contains__(...)\n",
      " |      x.__contains__(y) <==> y in x.\n",
      " |  \n",
      " |  __eq__(self, value, /)\n",
      " |      Return self==value.\n",
      " |  \n",
      " |  __ge__(self, value, /)\n",
      " |      Return self>=value.\n",
      " |  \n",
      " |  __getattribute__(self, name, /)\n",
      " |      Return getattr(self, name).\n",
      " |  \n",
      " |  __gt__(self, value, /)\n",
      " |      Return self>value.\n",
      " |  \n",
      " |  __iand__(self, value, /)\n",
      " |      Return self&=value.\n",
      " |  \n",
      " |  __init__(self, /, *args, **kwargs)\n",
      " |      Initialize self.  See help(type(self)) for accurate signature.\n",
      " |  \n",
      " |  __ior__(self, value, /)\n",
      " |      Return self|=value.\n",
      " |  \n",
      " |  __isub__(self, value, /)\n",
      " |      Return self-=value.\n",
      " |  \n",
      " |  __iter__(self, /)\n",
      " |      Implement iter(self).\n",
      " |  \n",
      " |  __ixor__(self, value, /)\n",
      " |      Return self^=value.\n",
      " |  \n",
      " |  __le__(self, value, /)\n",
      " |      Return self<=value.\n",
      " |  \n",
      " |  __len__(self, /)\n",
      " |      Return len(self).\n",
      " |  \n",
      " |  __lt__(self, value, /)\n",
      " |      Return self<value.\n",
      " |  \n",
      " |  __ne__(self, value, /)\n",
      " |      Return self!=value.\n",
      " |  \n",
      " |  __or__(self, value, /)\n",
      " |      Return self|value.\n",
      " |  \n",
      " |  __rand__(self, value, /)\n",
      " |      Return value&self.\n",
      " |  \n",
      " |  __reduce__(...)\n",
      " |      Return state information for pickling.\n",
      " |  \n",
      " |  __repr__(self, /)\n",
      " |      Return repr(self).\n",
      " |  \n",
      " |  __ror__(self, value, /)\n",
      " |      Return value|self.\n",
      " |  \n",
      " |  __rsub__(self, value, /)\n",
      " |      Return value-self.\n",
      " |  \n",
      " |  __rxor__(self, value, /)\n",
      " |      Return value^self.\n",
      " |  \n",
      " |  __sizeof__(...)\n",
      " |      S.__sizeof__() -> size of S in memory, in bytes\n",
      " |  \n",
      " |  __sub__(self, value, /)\n",
      " |      Return self-value.\n",
      " |  \n",
      " |  __xor__(self, value, /)\n",
      " |      Return self^value.\n",
      " |  \n",
      " |  add(...)\n",
      " |      Add an element to a set.\n",
      " |      \n",
      " |      This has no effect if the element is already present.\n",
      " |  \n",
      " |  clear(...)\n",
      " |      Remove all elements from this set.\n",
      " |  \n",
      " |  copy(...)\n",
      " |      Return a shallow copy of a set.\n",
      " |  \n",
      " |  difference(...)\n",
      " |      Return the difference of two or more sets as a new set.\n",
      " |      \n",
      " |      (i.e. all elements that are in this set but not the others.)\n",
      " |  \n",
      " |  difference_update(...)\n",
      " |      Remove all elements of another set from this set.\n",
      " |  \n",
      " |  discard(...)\n",
      " |      Remove an element from a set if it is a member.\n",
      " |      \n",
      " |      Unlike set.remove(), the discard() method does not raise\n",
      " |      an exception when an element is missing from the set.\n",
      " |  \n",
      " |  intersection(...)\n",
      " |      Return the intersection of two sets as a new set.\n",
      " |      \n",
      " |      (i.e. all elements that are in both sets.)\n",
      " |  \n",
      " |  intersection_update(...)\n",
      " |      Update a set with the intersection of itself and another.\n",
      " |  \n",
      " |  isdisjoint(...)\n",
      " |      Return True if two sets have a null intersection.\n",
      " |  \n",
      " |  issubset(...)\n",
      " |      Report whether another set contains this set.\n",
      " |  \n",
      " |  issuperset(...)\n",
      " |      Report whether this set contains another set.\n",
      " |  \n",
      " |  pop(...)\n",
      " |      Remove and return an arbitrary set element.\n",
      " |      Raises KeyError if the set is empty.\n",
      " |  \n",
      " |  remove(...)\n",
      " |      Remove an element from a set; it must be a member.\n",
      " |      \n",
      " |      If the element is not a member, raise a KeyError.\n",
      " |  \n",
      " |  symmetric_difference(...)\n",
      " |      Return the symmetric difference of two sets as a new set.\n",
      " |      \n",
      " |      (i.e. all elements that are in exactly one of the sets.)\n",
      " |  \n",
      " |  symmetric_difference_update(...)\n",
      " |      Update a set with the symmetric difference of itself and another.\n",
      " |  \n",
      " |  union(...)\n",
      " |      Return the union of sets as a new set.\n",
      " |      \n",
      " |      (i.e. all elements that are in either set.)\n",
      " |  \n",
      " |  update(...)\n",
      " |      Update a set with the union of itself and others.\n",
      " |  \n",
      " |  ----------------------------------------------------------------------\n",
      " |  Class methods defined here:\n",
      " |  \n",
      " |  __class_getitem__(...) from builtins.type\n",
      " |      See PEP 585\n",
      " |  \n",
      " |  ----------------------------------------------------------------------\n",
      " |  Static methods defined here:\n",
      " |  \n",
      " |  __new__(*args, **kwargs) from builtins.type\n",
      " |      Create and return a new object.  See help(type) for accurate signature.\n",
      " |  \n",
      " |  ----------------------------------------------------------------------\n",
      " |  Data and other attributes defined here:\n",
      " |  \n",
      " |  __hash__ = None\n",
      "\n"
     ]
    }
   ],
   "source": [
    "help(set)"
   ]
  },
  {
   "cell_type": "markdown",
   "id": "4a819309",
   "metadata": {},
   "source": [
    "remove()\n",
    " 1) This method removes the element in a set.\n",
    "    The syntax is set.remove().\n",
    "   The remove method and the discard removes the element i,e both does the same work.\n",
    "   In remove method it shows an error if the elementt is not in the set"
   ]
  },
  {
   "cell_type": "code",
   "execution_count": 7,
   "id": "5c6f4de8",
   "metadata": {},
   "outputs": [
    {
     "data": {
      "text/plain": [
       "{5, 33}"
      ]
     },
     "execution_count": 7,
     "metadata": {},
     "output_type": "execute_result"
    }
   ],
   "source": [
    "x={5,0,33}\n",
    "x.remove(0)\n",
    "x"
   ]
  },
  {
   "cell_type": "markdown",
   "id": "a53c3d4c",
   "metadata": {},
   "source": [
    "discard()\n",
    " It removes the element from a set.\n",
    " the syntax is set.discard().\n"
   ]
  },
  {
   "cell_type": "code",
   "execution_count": 1,
   "id": "df75deec",
   "metadata": {},
   "outputs": [
    {
     "data": {
      "text/plain": [
       "{5, 6, 8}"
      ]
     },
     "execution_count": 1,
     "metadata": {},
     "output_type": "execute_result"
    }
   ],
   "source": [
    "x={5,6,7,8}# discarding the element.\n",
    "x.discard(7)\n",
    "x"
   ]
  },
  {
   "cell_type": "markdown",
   "id": "af198604",
   "metadata": {},
   "source": [
    "The only difference between the remove and discard.\n",
    "1) remove shows an error\n",
    "2)discard does not shown an error\n"
   ]
  },
  {
   "cell_type": "code",
   "execution_count": 2,
   "id": "e4feb706",
   "metadata": {},
   "outputs": [
    {
     "data": {
      "text/plain": [
       "{5, 6, 7}"
      ]
     },
     "execution_count": 2,
     "metadata": {},
     "output_type": "execute_result"
    }
   ],
   "source": [
    "x={5,6,7,9}\n",
    "x.discard(9)\n",
    "x"
   ]
  },
  {
   "cell_type": "markdown",
   "id": "1f335396",
   "metadata": {},
   "source": [
    "pop() method\n",
    " This metthod removes the first element in sets\n",
    " Genarally,it pops the random value from a set\n",
    " the general syntax is set.pop()\n",
    " "
   ]
  },
  {
   "cell_type": "code",
   "execution_count": 4,
   "id": "e4936b55",
   "metadata": {},
   "outputs": [
    {
     "data": {
      "text/plain": [
       "(1, {4, 6, 9})"
      ]
     },
     "execution_count": 4,
     "metadata": {},
     "output_type": "execute_result"
    }
   ],
   "source": [
    "p={1,4,6,9}\n",
    "y=p.pop()\n",
    "y,p"
   ]
  },
  {
   "cell_type": "markdown",
   "id": "bf382f56",
   "metadata": {},
   "source": [
    "clear()\n",
    " this method clears all the entire set returns an empty set.\n",
    "the syntax is set.clear()"
   ]
  },
  {
   "cell_type": "code",
   "execution_count": 5,
   "id": "d0b724e3",
   "metadata": {},
   "outputs": [
    {
     "data": {
      "text/plain": [
       "set()"
      ]
     },
     "execution_count": 5,
     "metadata": {},
     "output_type": "execute_result"
    }
   ],
   "source": [
    "x={3,4,5}\n",
    "x.clear()\n",
    "x"
   ]
  },
  {
   "cell_type": "code",
   "execution_count": 6,
   "id": "597e250a",
   "metadata": {},
   "outputs": [
    {
     "name": "stdout",
     "output_type": "stream",
     "text": [
      "Help on method_descriptor:\n",
      "\n",
      "clear(...)\n",
      "    Remove all elements from this set.\n",
      "\n"
     ]
    }
   ],
   "source": [
    "help(set.clear)"
   ]
  },
  {
   "cell_type": "markdown",
   "id": "e08e5f9b",
   "metadata": {},
   "source": [
    "is disjoint()\n",
    " This checks whether the sets are disjoint or not\n",
    " the syntax is set.isdisjoint()\n",
    " "
   ]
  },
  {
   "cell_type": "code",
   "execution_count": 8,
   "id": "82efaecd",
   "metadata": {},
   "outputs": [
    {
     "name": "stdout",
     "output_type": "stream",
     "text": [
      "{3, 4, 5, 6}\n",
      "{8, 5, 6, 7}\n",
      "(<class 'set'>, range(1, 8))\n",
      "{'d', 'c', 'a', 'b'}\n"
     ]
    }
   ],
   "source": [
    "a={6,5,4,3}\n",
    "b={5,6,7,8}\n",
    "c=set,(range(1,8))\n",
    "d={'a','b','c','d'}\n",
    "print(a,b,c,d, sep='\\n')"
   ]
  },
  {
   "cell_type": "code",
   "execution_count": 9,
   "id": "f10d431b",
   "metadata": {},
   "outputs": [
    {
     "name": "stdout",
     "output_type": "stream",
     "text": [
      "Help on method_descriptor:\n",
      "\n",
      "isdisjoint(...)\n",
      "    Return True if two sets have a null intersection.\n",
      "\n"
     ]
    }
   ],
   "source": [
    "help(set.isdisjoint)"
   ]
  },
  {
   "cell_type": "markdown",
   "id": "02f3c788",
   "metadata": {},
   "source": [
    "difference()\n",
    "1) It removes the common element of which we are calling on\n",
    "2) the general syntax is set.difference()"
   ]
  },
  {
   "cell_type": "code",
   "execution_count": 10,
   "id": "e74ddce7",
   "metadata": {},
   "outputs": [
    {
     "data": {
      "text/plain": [
       "{1, 2, 3, 4, 5}"
      ]
     },
     "execution_count": 10,
     "metadata": {},
     "output_type": "execute_result"
    }
   ],
   "source": [
    "a={1,2,3,4,5}\n",
    "b={4,5,6,7}\n",
    "a.difference()"
   ]
  },
  {
   "cell_type": "code",
   "execution_count": 11,
   "id": "0128d5d1",
   "metadata": {},
   "outputs": [
    {
     "data": {
      "text/plain": [
       "{6, 7}"
      ]
     },
     "execution_count": 11,
     "metadata": {},
     "output_type": "execute_result"
    }
   ],
   "source": [
    "b.difference(a)"
   ]
  },
  {
   "cell_type": "markdown",
   "id": "834f6bbf",
   "metadata": {},
   "source": [
    "add()\n",
    "1) This method is similar to append in list.\n",
    "2) this adds the element to a set\n",
    "3) the syntax is set.add()"
   ]
  },
  {
   "cell_type": "code",
   "execution_count": 14,
   "id": "3cf1eddd",
   "metadata": {},
   "outputs": [
    {
     "data": {
      "text/plain": [
       "{3, 'archana reddy'}"
      ]
     },
     "execution_count": 14,
     "metadata": {},
     "output_type": "execute_result"
    }
   ],
   "source": [
    "x={'archana reddy'}\n",
    "x.add(3)\n",
    "x"
   ]
  },
  {
   "cell_type": "markdown",
   "id": "ecac4852",
   "metadata": {},
   "source": [
    "update()\n",
    "1) This method is similar to extend method list.\n",
    "2) the syntax is set.update()"
   ]
  },
  {
   "cell_type": "code",
   "execution_count": 15,
   "id": "1062bea1",
   "metadata": {},
   "outputs": [
    {
     "data": {
      "text/plain": [
       "{'Archana', 'd', 'e', 'r', 'y'}"
      ]
     },
     "execution_count": 15,
     "metadata": {},
     "output_type": "execute_result"
    }
   ],
   "source": [
    "x={'Archana'}\n",
    "x.update('reddy')\n",
    "x"
   ]
  },
  {
   "cell_type": "markdown",
   "id": "a6623dd6",
   "metadata": {},
   "source": [
    "union()\n",
    "1) This joins the sets without repeating the common elements.\n",
    "2) the syntax is set.union()\n"
   ]
  },
  {
   "cell_type": "code",
   "execution_count": 17,
   "id": "883de13f",
   "metadata": {},
   "outputs": [
    {
     "data": {
      "text/plain": [
       "{1, 2, 4, 5, 6, 7, 8, 9}"
      ]
     },
     "execution_count": 17,
     "metadata": {},
     "output_type": "execute_result"
    }
   ],
   "source": [
    "x={1,4,6,8,9}\n",
    "y={7,9,2,4,5}\n",
    "x.union(y)"
   ]
  },
  {
   "cell_type": "code",
   "execution_count": 18,
   "id": "15904456",
   "metadata": {},
   "outputs": [
    {
     "data": {
      "text/plain": [
       "{1, 2, 4, 5, 6, 7, 8, 9}"
      ]
     },
     "execution_count": 18,
     "metadata": {},
     "output_type": "execute_result"
    }
   ],
   "source": [
    "y.union(x)"
   ]
  },
  {
   "cell_type": "markdown",
   "id": "d5d44c7c",
   "metadata": {},
   "source": [
    "Intersection()\n",
    "  1) This returns the common elements only.\n",
    "  2) the syntax is set.intesection()\n",
    "  "
   ]
  },
  {
   "cell_type": "markdown",
   "id": "d0c6c6f5",
   "metadata": {},
   "source": [
    "x.intersection()\n",
    " 1) This returns the common elements only..\n",
    " 2) the syntax is set.intersection()"
   ]
  },
  {
   "cell_type": "code",
   "execution_count": 21,
   "id": "41ea0a5b",
   "metadata": {},
   "outputs": [
    {
     "data": {
      "text/plain": [
       "set()"
      ]
     },
     "execution_count": 21,
     "metadata": {},
     "output_type": "execute_result"
    }
   ],
   "source": [
    "x={'Archana'}\n",
    "y={' reddy'}\n",
    "x.intersection(y)"
   ]
  },
  {
   "cell_type": "markdown",
   "id": "2834176f",
   "metadata": {},
   "source": [
    "issuperset(),issubset()\n",
    "1) This methods returns the output as a true or false.\n",
    "2) the syntax is set.issuperset(),set.issubset()"
   ]
  },
  {
   "cell_type": "code",
   "execution_count": 23,
   "id": "45e0d74e",
   "metadata": {},
   "outputs": [
    {
     "data": {
      "text/plain": [
       "False"
      ]
     },
     "execution_count": 23,
     "metadata": {},
     "output_type": "execute_result"
    }
   ],
   "source": [
    "x={range(15)}\n",
    "y={8,9,5,6}\n",
    "x.issuperset(y)"
   ]
  },
  {
   "cell_type": "code",
   "execution_count": 24,
   "id": "036fcb59",
   "metadata": {},
   "outputs": [
    {
     "data": {
      "text/plain": [
       "True"
      ]
     },
     "execution_count": 24,
     "metadata": {},
     "output_type": "execute_result"
    }
   ],
   "source": [
    "x={1,2,3,4}\n",
    "y={1,2,3,4,5,6,7,8,9}\n",
    "x.issubset(y)"
   ]
  },
  {
   "cell_type": "markdown",
   "id": "a96c3c98",
   "metadata": {},
   "source": [
    "symmetric_difference()\n",
    "1) This method removes the common elements from sets and combine the set.\n",
    "2) the syntax is set.symmetric_difference()"
   ]
  },
  {
   "cell_type": "code",
   "execution_count": 25,
   "id": "a4bd650d",
   "metadata": {},
   "outputs": [
    {
     "data": {
      "text/plain": [
       "{1, 2, 3, 8, 9}"
      ]
     },
     "execution_count": 25,
     "metadata": {},
     "output_type": "execute_result"
    }
   ],
   "source": [
    "x={1,2,3,4,5,6}\n",
    "y={8,9,4,5,6}\n",
    "x.symmetric_difference(y)"
   ]
  },
  {
   "cell_type": "markdown",
   "id": "ce2878e2",
   "metadata": {},
   "source": [
    "intersection_update()\n",
    "1) This is similar to intersection and update method it combines both the intersection and update sets\n",
    "2) The syntax is set.intersection_update()"
   ]
  },
  {
   "cell_type": "code",
   "execution_count": 27,
   "id": "e1832d10",
   "metadata": {},
   "outputs": [
    {
     "data": {
      "text/plain": [
       "{4, 5, 6}"
      ]
     },
     "execution_count": 27,
     "metadata": {},
     "output_type": "execute_result"
    }
   ],
   "source": [
    "x={1,2,3,4,5,6}\n",
    "y={8,9,5,4,6}\n",
    "x.intersection_update(y)\n",
    "x"
   ]
  },
  {
   "cell_type": "markdown",
   "id": "b27f1846",
   "metadata": {},
   "source": [
    "Symmetric_difference_update()\n",
    "1) This removes the common elements from the sets and then update the sets\n",
    "2) the syntax is set.symmetric_difference_update"
   ]
  },
  {
   "cell_type": "code",
   "execution_count": 28,
   "id": "9801f74c",
   "metadata": {},
   "outputs": [
    {
     "data": {
      "text/plain": [
       "{2, 3, 4, 6, 7, 9, 42}"
      ]
     },
     "execution_count": 28,
     "metadata": {},
     "output_type": "execute_result"
    }
   ],
   "source": [
    "x={2,4,42}\n",
    "y={7,9,3,6}\n",
    "x.symmetric_difference_update(y)\n",
    "x"
   ]
  },
  {
   "cell_type": "markdown",
   "id": "d2982829",
   "metadata": {},
   "source": [
    "Dictionary\n",
    "Dictionary are used to store data values in key:value pairs.\n",
    "A dictionary is a collection which is ordered, changeable and do not allow duplicates.\n",
    "Dictionary is a built in python data structure that is mutable. its similar in spirit to list,set, tuple."
   ]
  },
  {
   "cell_type": "code",
   "execution_count": 32,
   "id": "4150ddb3",
   "metadata": {},
   "outputs": [
    {
     "data": {
      "text/plain": [
       "{1: {1, 2, 3}, 'hello': (4, 5, 6)}"
      ]
     },
     "execution_count": 32,
     "metadata": {},
     "output_type": "execute_result"
    }
   ],
   "source": [
    "x= {1:{1,2,3,},'hello':(4,5,6),}\n",
    "x\n",
    "    "
   ]
  },
  {
   "cell_type": "code",
   "execution_count": 33,
   "id": "d3e7cc03",
   "metadata": {},
   "outputs": [
    {
     "data": {
      "text/plain": [
       "['__class__',\n",
       " '__class_getitem__',\n",
       " '__contains__',\n",
       " '__delattr__',\n",
       " '__delitem__',\n",
       " '__dir__',\n",
       " '__doc__',\n",
       " '__eq__',\n",
       " '__format__',\n",
       " '__ge__',\n",
       " '__getattribute__',\n",
       " '__getitem__',\n",
       " '__getstate__',\n",
       " '__gt__',\n",
       " '__hash__',\n",
       " '__init__',\n",
       " '__init_subclass__',\n",
       " '__ior__',\n",
       " '__iter__',\n",
       " '__le__',\n",
       " '__len__',\n",
       " '__lt__',\n",
       " '__ne__',\n",
       " '__new__',\n",
       " '__or__',\n",
       " '__reduce__',\n",
       " '__reduce_ex__',\n",
       " '__repr__',\n",
       " '__reversed__',\n",
       " '__ror__',\n",
       " '__setattr__',\n",
       " '__setitem__',\n",
       " '__sizeof__',\n",
       " '__str__',\n",
       " '__subclasshook__',\n",
       " 'clear',\n",
       " 'copy',\n",
       " 'fromkeys',\n",
       " 'get',\n",
       " 'items',\n",
       " 'keys',\n",
       " 'pop',\n",
       " 'popitem',\n",
       " 'setdefault',\n",
       " 'update',\n",
       " 'values']"
      ]
     },
     "execution_count": 33,
     "metadata": {},
     "output_type": "execute_result"
    }
   ],
   "source": [
    "dir(dict)"
   ]
  },
  {
   "cell_type": "code",
   "execution_count": null,
   "id": "bf30b5f1",
   "metadata": {},
   "outputs": [],
   "source": []
  }
 ],
 "metadata": {
  "kernelspec": {
   "display_name": "Python 3 (ipykernel)",
   "language": "python",
   "name": "python3"
  },
  "language_info": {
   "codemirror_mode": {
    "name": "ipython",
    "version": 3
   },
   "file_extension": ".py",
   "mimetype": "text/x-python",
   "name": "python",
   "nbconvert_exporter": "python",
   "pygments_lexer": "ipython3",
   "version": "3.11.5"
  }
 },
 "nbformat": 4,
 "nbformat_minor": 5
}
